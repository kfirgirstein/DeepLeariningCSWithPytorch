{
 "cells": [
  {
   "cell_type": "markdown",
   "metadata": {},
   "source": [
    "# CS236781: Deep Learning on Computational Accelerators\n",
    "# Homework Assignment 4\n",
    "\n",
    "Faculty of Computer Science, Technion."
   ]
  },
  {
   "cell_type": "markdown",
   "metadata": {},
   "source": [
    "Submitted by:\n",
    "\n",
    "| #       |              Name |             Id |             email |\n",
    "|---------|-------------------|----------------|------------------ |\n",
    "|Student 1|  [your name here] | [your id here] | [your email here] |\n",
    "|Student 2|  [your name here] | [your id here] | [your email here] |"
   ]
  },
  {
   "cell_type": "markdown",
   "metadata": {},
   "source": [
    "## Introduction\n",
    "\n",
    "In this assignment we'll explore deep reinforcement learning.\n",
    "We'll implement two popular and related methods for directly learning the policy of an\n",
    "agent for playing a simple video game."
   ]
  },
  {
   "cell_type": "markdown",
   "metadata": {},
   "source": [
    "## General Guidelines\n",
    "\n",
    "- Please read the [getting started page](https://vistalab-technion.github.io/cs236781/assignments/getting-started) on the course website. It explains how to **setup, run and submit** the assignment.\n",
    "- This assignment requires running on GPU-enabled hardware. Please read the [course servers usage guide](https://vistalab-technion.github.io/cs236781/assignments/hpc-servers). It explains how to use and run your code on the course servers to benefit from training with GPUs.\n",
    "- The text and code cells in these notebooks are intended to guide you through the\n",
    "  assignment and help you verify your solutions.\n",
    "  The notebooks **do not need to be edited** at all (unless you wish to play around).\n",
    "  The only exception is to fill your name(s) in the above cell before submission.\n",
    "  Please do not remove sections or change the order of any cells.\n",
    "- All your code (and even answers to questions) should be written in the files\n",
    "  within the python package corresponding the assignment number (`hw1`, `hw2`, etc).\n",
    "  You can of course use any editor or IDE to work on these files.\n"
   ]
  },
  {
   "cell_type": "markdown",
   "metadata": {},
   "source": [
    "## Contents\n",
    "- [Part1: Deep Reinforcement Learning](#part1)\n",
    "    - [Policy Gradients](#part1_1)\n",
    "    - [Advantage Actor-Critic (AAC)](#part1_2)\n",
    "    - [Questions](#part1_3)"
   ]
  }
 ],
 "metadata": {
  "kernelspec": {
   "display_name": "Python 3",
   "language": "python",
   "name": "python3"
  },
  "language_info": {
   "codemirror_mode": {
    "name": "ipython",
    "version": 3
   },
   "file_extension": ".py",
   "mimetype": "text/x-python",
   "name": "python",
   "nbconvert_exporter": "python",
   "pygments_lexer": "ipython3",
   "version": "3.7.6"
  }
 },
 "nbformat": 4,
 "nbformat_minor": 4
}
